{
 "cells": [
  {
   "cell_type": "code",
   "execution_count": 1,
   "metadata": {},
   "outputs": [],
   "source": [
    "import sys\n",
    "import os\n",
    "\n",
    "import SingleCellLineageTracing.ProcessingPipeline.process as process\n",
    "import SingleCellLineageTracing.ProcessingPipeline.process.sequencing as sequencing\n",
    "import pandas as pd \n",
    "\n",
    "import SingleCellLineageTracing as sclt\n",
    "import numpy as np\n",
    "\n",
    "\n",
    "## Sometimes Jupyter notebook doesn't retain your PATH environment variable -- this will mess up a number of things.\n",
    "## We recommend specifying the environment variable manually here\n",
    "os.environ[\"PATH\"] = '/home/mattjones/bin:/home/mattjones/.local/bin:/home/mattjones/myapps/bin:/usr/local/sbin:/usr/local/bin:/usr/sbin:/usr/bin:/sbin:/bin:/usr/games:/usr/local/games:/snap/bin:/home/mattjones/opt/gurobi801/linux64/bin:/home/mattjones/software/bowtie2-2.3.4.2:/home/mattjones/emboss/EMBOSS-6.6.0/emboss'"
   ]
  },
  {
   "cell_type": "code",
   "execution_count": 2,
   "metadata": {},
   "outputs": [],
   "source": [
    "## first specify the home directory, and possorted genome bam\n",
    "home_dir = \"tests\"\n",
    "genome_bam = \"data/test_possorted_genome_bam.bam\"\n"
   ]
  },
  {
   "cell_type": "markdown",
   "metadata": {},
   "source": [
    "### Collapsing UMI reads together\n",
    "\n",
    "The first step of the pipeline is to collapse UMIs -- i.e. count how many times we read the sequence of each UMI. We also account for small sequencing errors by aggregating counts of UMIs whose sequences are very similar to one another. \n",
    "\n",
    "This function takes in the following parameters:\n",
    "\n",
    "- **home_dir**: the filepath to the cellranger directory, storing the possorted bam\n",
    "- **fn**: the path to the genome bam file\n",
    "- **max_indels**: the maximum number of indels allowed between sequences for collapsing\n",
    "- **max_hq_mismatches**: the maximum number of hamming distance between sequences for collapsing\n",
    "- **max_UMI_distance**: the maximum number of mismatches between UMI sequences for collapsing\n",
    "- **show_progress**: whether or not to show the tqdm progress bar\n",
    "- **force_sort**: sort the input bam\n",
    "\n",
    "This function can also be run via command line with the `collapse` command -- use `collapse -h` to view all options. \n",
    "\n",
    "Finally, this function will ouptut a collapsed .bam file of reads as well as a .txt file, storing all reads and meta information that can be read in using pandas dataframes.\n",
    "\n"
   ]
  },
  {
   "cell_type": "code",
   "execution_count": null,
   "metadata": {},
   "outputs": [],
   "source": [
    "process.collapseUMIs(home_dir, genome_bam, force_sort=True)"
   ]
  },
  {
   "cell_type": "markdown",
   "metadata": {},
   "source": [
    "### Pick Sequences\n",
    "\n",
    "After running the collapsing function, which aggregates together identical reads, we'd like to assign a unique read to each UMI barcode sequence. The way we accomplish this is by simply selecting the sequence associated with the UMI that has the most reads. The majority of times, these will be clear; however, we still perform UMI filtering downstream that will remove any ambiguous reads. This is also the first step that performs a cell-barcode filtering, based on the number of UMIs that are observed per cell. \n",
    "\n",
    "The parameters that can be passed to this function are the following:\n",
    "\n",
    "- **moltable**: the moleculetable dataframe on which to perform this function (this can be the `.collpased.txt` dataframe created in the last step)\n",
    "- **out_fp**: the output path name of the resulting dataframe\n",
    "- **output_dir**: the output directory for storing all plotting output\n",
    "- **cell_umi_thresh**: the minimum number of UMIs per cell, used for cell filtering (default = 10)\n",
    "- **avg_reads_per_UMI_thresh**: the number of reads per UMI allowed, used for UMI filtering (default = 2)\n",
    "- **verbose**: allows logging information, as well as summary plotting (default = True)\n",
    "- **save_output**: allows for writing of the text file; else just the molecule table will be returned (default = False)"
   ]
  },
  {
   "cell_type": "code",
   "execution_count": null,
   "metadata": {},
   "outputs": [],
   "source": [
    "process.pickSeq(\"data/test_possorted_genome_bam_sorted.collapsed.txt\", \"data/test_possorted_genome_bam_sorted.picked.txt\", \"data/\", cell_umi_thresh=5, avg_reads_per_UMI_thresh=1, save_output=True)"
   ]
  },
  {
   "cell_type": "markdown",
   "metadata": {},
   "source": [
    "### Aligning of Sequences & Calling Alleles\n",
    "\n",
    "With individual mappings of sequences to UMIs, we're now ready to call the alleles for each UMI -- namely, the outcomes of Cas9 cuts that will be used to reconstruct lineages. We use the Smith-Waterman aligner here as it is good at removing parts of sequences that result from outrageous editing outcomes (e.g. translocations or complete removal of the target site). We find that the optimal parameters consist of a Gap Opening penalty of 20 and a Gap Extension Penalty of 1, as found via simulations (see the manuscript for more details). \n",
    "\n",
    "The function that should be used for this step is `align_sequences`, which takes the following parameters:\n",
    "\n",
    "- **ref**: file path to the reference sequence\n",
    "- **queries**: file path to the dataframe consisting of UMI sequences to be aligned \n",
    "- **outfile**: file path to the output file\n",
    "- **gapopen**: gap open penalty (default = 20)\n",
    "- **gapextend**: gap extension penalty (default = 1)\n",
    "- **ref_format**: reference sequence format (default = fasta)\n",
    "- **query_format**: query sequence foramt (default = fastq)\n",
    "- **out_format**: output format (default = sam)\n",
    "\n",
    "\n",
    "The result of this function will be the creation of an output sam file, which can be used to call alleles and then turned into a UMI-table, mapping UMIs to alleles."
   ]
  },
  {
   "cell_type": "code",
   "execution_count": null,
   "metadata": {},
   "outputs": [],
   "source": [
    "process.align_sequences(\"data/PCT48-long.ref.fa\", \"data/test_possorted_genome_bam_sorted.picked.txt\", \"data/test_sw_aligned.sam\")"
   ]
  },
  {
   "cell_type": "code",
   "execution_count": null,
   "metadata": {},
   "outputs": [],
   "source": [
    "process.call_indels(\"data/test_sw_aligned.sam\", \"data/PCT48-long.ref.fa\", \"data/test_umi_table.sam\")"
   ]
  },
  {
   "cell_type": "markdown",
   "metadata": {},
   "source": [
    "### Error Correct UMIs\n",
    "\n",
    "We can now define equivalence classes of UMIs associated with idential cells and alelles. We'd like to error correct within these classes from UMIs with few reads to UMIs in the same equivalence class with high reads. This will overall reduce the amount of noise in the dataset and make more coherent alleletables for lineage group calling, doublet detection, and lineage reconstruction. \n",
    "\n",
    "You can use the `errorCorrectUMIs` function which takes the following parameters:\n",
    "\n",
    "- **bam_file**: the bam file on which to error correct\n",
    "- **_id**: the id to use \n",
    "- **log_file**: the file to log the error corrections in \n",
    "- **max_hq_mismatches**: the maximum high quality mismatches allowed for error correction (default = 3)\n",
    "- **max_indels**: the maximum nubmer of indels allowed for error corrections (default = 2)\n",
    "- **max_UMI_distance**: the maximum hamming distance between UMIs allowed (default = 2)\n",
    "- **show_progress**: update progress with tqdm (default = True)"
   ]
  },
  {
   "cell_type": "code",
   "execution_count": null,
   "metadata": {},
   "outputs": [],
   "source": [
    "process.errorCorrectUMIs(\"data/test_umi_table.bam\", \"test\", \"ec_log.txt\")"
   ]
  },
  {
   "cell_type": "markdown",
   "metadata": {},
   "source": [
    "### Filter Molecule Table"
   ]
  },
  {
   "cell_type": "code",
   "execution_count": null,
   "metadata": {},
   "outputs": [],
   "source": [
    "process.filter_molecule_table(\"data/test_umi_table_sorted_ec.moleculeTable.txt\", \"data/test.moleculeTable.filtered.txt\", \"data/\")"
   ]
  },
  {
   "cell_type": "code",
   "execution_count": null,
   "metadata": {},
   "outputs": [],
   "source": [
    "process.changeCellBCID(\"data/test.moleculeTable.filtered.txt\", \"test\", \"data/test.moleculeTable.filtered.sample.txt\")"
   ]
  },
  {
   "cell_type": "markdown",
   "metadata": {},
   "source": [
    "### Call Lineage Groups"
   ]
  },
  {
   "cell_type": "code",
   "execution_count": 3,
   "metadata": {},
   "outputs": [
    {
     "name": "stdout",
     "output_type": "stream",
     "text": [
      "call-lineages data/test.moleculeTable.filtered.sample.txt test.alleleTable.txt lg_output --min_cluster_prop 0.005 --min_intbc_thresh 0.05 --doublet_threshold 0.35 --cell_umi_filter 10 --detect_doublets_inter\n"
     ]
    }
   ],
   "source": [
    "process.call_lineage_groups(\"data/test.moleculeTable.filtered.sample.txt\", \"test.alleleTable.txt\", \"lg_output\")"
   ]
  }
 ],
 "metadata": {
  "kernelspec": {
   "display_name": "Python 3",
   "language": "python",
   "name": "python3"
  },
  "language_info": {
   "codemirror_mode": {
    "name": "ipython",
    "version": 3
   },
   "file_extension": ".py",
   "mimetype": "text/x-python",
   "name": "python",
   "nbconvert_exporter": "python",
   "pygments_lexer": "ipython3",
   "version": "3.6.8"
  }
 },
 "nbformat": 4,
 "nbformat_minor": 2
}
