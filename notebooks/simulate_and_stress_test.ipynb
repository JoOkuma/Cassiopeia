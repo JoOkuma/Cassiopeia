{
 "cells": [
  {
   "cell_type": "code",
   "execution_count": 1,
   "metadata": {},
   "outputs": [],
   "source": [
    "import os\n",
    "os.environ[\"PATH\"] = '/home/mattjones/bin:/home/mattjones/.local/bin:/home/mattjones/myapps/bin:/usr/local/sbin:/usr/local/bin:/usr/sbin:/usr/bin:/sbin:/bin:/usr/games:/usr/local/games:/snap/bin:/home/mattjones/opt/gurobi801/linux64/bin:/home/mattjones/software/bowtie2-2.3.4.2:/home/mattjones/emboss/EMBOSS-6.6.0/emboss'\n",
    "os.environ[\"LD_LIBRARY_PATH\"] = '/home/mattjones/lib/::/home/mattjones/opt/gurobi801/linux64/lib'\n",
    "\n",
    "from Cassiopeia.TreeSolver import data_pipeline\n",
    "from Cassiopeia.TreeSolver.simulation_tools import dataset_generation\n",
    "from Cassiopeia.TreeSolver import score_triplets\n",
    "\n",
    "import pandas as pd \n",
    "import numpy as np\n",
    "import networkx as nx\n",
    "import pickle as pic\n",
    "\n",
    "import sys"
   ]
  },
  {
   "cell_type": "markdown",
   "metadata": {},
   "source": [
    "### Simulate Tree"
   ]
  },
  {
   "cell_type": "code",
   "execution_count": 2,
   "metadata": {},
   "outputs": [],
   "source": [
    "# set parameters\n",
    "D = 12\n",
    "C = 40\n",
    "S = 20\n",
    "num_cells = 400\n",
    "sub_samp = num_cells / 2**D\n",
    "M = 0.0275\n",
    "\n",
    "dropout = dict(zip(range(C), np.random.randint(7, high=40, size=C) / 100))\n",
    "\n",
    "# create mutation map\n",
    "mutation_map = {}\n",
    "for i in range(C):\n",
    "    sampled_probabilities = sorted([np.random.negative_binomial(5, .5) for _ in range(1, S)])\n",
    "    mutation_map[i] = {'0': (1 - M)}\n",
    "    total = np.sum(sampled_probabilities)\n",
    "    for j in range(1, S):\n",
    "        mutation_map[i][str(j)] = (M)*sampled_probabilities[j-1]/(1.0 * total)"
   ]
  },
  {
   "cell_type": "code",
   "execution_count": 3,
   "metadata": {},
   "outputs": [],
   "source": [
    "true_network = dataset_generation.generate_simulated_full_tree(mutation_map, dropout, characters=C, subsample_percentage = sub_samp, depth=D)\n",
    "\n",
    "pic.dump(true_network, open(\"true_network_test.pkl\", \"wb\"))"
   ]
  },
  {
   "cell_type": "markdown",
   "metadata": {},
   "source": [
    "### Reconstruct Trees with the Stress-Test Module\n",
    "\n",
    "You can use the `stress-test` command line tool to reconstruct the trees from the simulation. This module will take in the newtorkx file produced from the `generate_simulated_full_tree` function and reconstruct a tree using any of five algorithms. Use the `-h` flag to see usage and all options.\n",
    "\n",
    "Below, we have used already run the stress test command on the true network and have saved the result in `greedy_network_test.pkl`."
   ]
  },
  {
   "cell_type": "markdown",
   "metadata": {},
   "source": [
    "### Validation"
   ]
  },
  {
   "cell_type": "code",
   "execution_count": 4,
   "metadata": {},
   "outputs": [
    {
     "name": "stdout",
     "output_type": "stream",
     "text": [
      "Triplet score: 0.8243561501183451\n"
     ]
    }
   ],
   "source": [
    "reconstructed_tree = nx.read_gpickle(\"greedy_network_test.pkl\")\n",
    "true_network = nx.read_gpickle(\"true_network_test.pkl\")\n",
    "\n",
    "triplet_score = score_triplets.score_triplets(true_network, reconstructed_tree, modified=True, number_of_trials=10000)\n",
    "\n",
    "print(\"Triplet score: \" + str(triplet_score))"
   ]
  },
  {
   "cell_type": "code",
   "execution_count": null,
   "metadata": {},
   "outputs": [],
   "source": []
  }
 ],
 "metadata": {
  "kernelspec": {
   "display_name": "Python 3",
   "language": "python",
   "name": "python3"
  },
  "language_info": {
   "codemirror_mode": {
    "name": "ipython",
    "version": 3
   },
   "file_extension": ".py",
   "mimetype": "text/x-python",
   "name": "python",
   "nbconvert_exporter": "python",
   "pygments_lexer": "ipython3",
   "version": "3.6.8"
  }
 },
 "nbformat": 4,
 "nbformat_minor": 2
}
