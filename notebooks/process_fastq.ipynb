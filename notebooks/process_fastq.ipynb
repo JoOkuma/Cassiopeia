{
 "cells": [
  {
   "cell_type": "code",
   "execution_count": 1,
   "metadata": {},
   "outputs": [],
   "source": [
    "import sys\n",
    "import os\n",
    "\n",
    "import cassiopeia.preprocess as process\n",
    "import cassiopeia.preprocess.pipeline as pipeline\n",
    "import pandas as pd \n",
    "\n",
    "import cassiopeia\n",
    "import numpy as np\n",
    "\n",
    "import tqdm\n",
    "import pysam\n",
    "\n",
    "\n",
    "## Sometimes Jupyter notebook doesn't retain your PATH environment variable -- this will mess up a number of things.\n",
    "## We recommend specifying the environment variable manually here\n",
    "# os.environ[\"PATH\"] = '/home/mattjones/bin:/home/mattjones/.local/bin:/home/mattjones/myapps/bin:/usr/local/sbin:/usr/local/bin:/usr/sbin:/usr/bin:/sbin:/bin:/usr/games:/usr/local/games:/snap/bin:/home/mattjones/opt/gurobi801/linux64/bin:/home/mattjones/software/bowtie2-2.3.4.2:/home/mattjones/emboss/EMBOSS-6.6.0/emboss'"
   ]
  },
  {
   "cell_type": "code",
   "execution_count": 2,
   "metadata": {},
   "outputs": [],
   "source": [
    "## first specify the home directory, and possorted genome bam\n",
    "home_dir = \".\"\n",
    "genome_bam = \"test_possorted_genome_bam.bam\"\n",
    "test_bam = \"test.bam\""
   ]
  },
  {
   "cell_type": "code",
   "execution_count": 35,
   "metadata": {},
   "outputs": [
    {
     "name": "stdout",
     "output_type": "stream",
     "text": [
      "8415056\n",
      "841661\n"
     ]
    }
   ],
   "source": [
    "total = 0\n",
    "taken = 0\n",
    "\n",
    "bam_fh = pysam.AlignmentFile(genome_bam)\n",
    "with pysam.AlignmentFile(\"test_subset_possorted_genome_bam.bam\", \"wb\", template=bam_fh) as fh:\n",
    "    for i in bam_fh:\n",
    "        total += 1\n",
    "        if np.random.uniform() < 0.1:\n",
    "            fh.write(i)\n",
    "            taken += 1\n",
    "            \n",
    "print(total)\n",
    "print(taken)"
   ]
  },
  {
   "cell_type": "code",
   "execution_count": 36,
   "metadata": {},
   "outputs": [
    {
     "name": "stdout",
     "output_type": "stream",
     "text": [
      "841661\n"
     ]
    }
   ],
   "source": [
    "total = 0\n",
    "bam_fh = pysam.AlignmentFile(\"test_subset_possorted_genome_bam.bam\")\n",
    "for i in bam_fh:\n",
    "    total += 1\n",
    "print(total)"
   ]
  },
  {
   "cell_type": "code",
   "execution_count": 4,
   "metadata": {},
   "outputs": [
    {
     "data": {
      "application/vnd.jupyter.widget-view+json": {
       "model_id": "08f7228d0f884122800a68882e7f14f4",
       "version_major": 2,
       "version_minor": 0
      },
      "text/plain": [
       "HBox(children=(IntProgress(value=0, max=4), HTML(value='')))"
      ]
     },
     "metadata": {},
     "output_type": "display_data"
    },
    {
     "name": "stdout",
     "output_type": "stream",
     "text": [
      "\n"
     ]
    },
    {
     "data": {
      "application/vnd.jupyter.widget-view+json": {
       "model_id": "ccc6ad0572e24a6cb3b6a318e898ba77",
       "version_major": 2,
       "version_minor": 0
      },
      "text/plain": [
       "HBox(children=(IntProgress(value=0, max=3), HTML(value='')))"
      ]
     },
     "metadata": {},
     "output_type": "display_data"
    },
    {
     "name": "stdout",
     "output_type": "stream",
     "text": [
      "\n"
     ]
    }
   ],
   "source": [
    "df = pipeline.collapse_umis(home_dir, test_bam, show_progress = False, force_sort=False)\n",
    "resolved_UMIs = pipeline.resolve_umi_sequence(df, \".\", min_umi_per_cell=1, min_avg_reads_per_umi=1, plot = False)\n"
   ]
  },
  {
   "cell_type": "markdown",
   "metadata": {},
   "source": [
    "### Collapsing UMI reads together\n",
    "\n",
    "The first step of the pipeline is to collapse UMIs -- i.e. count how many times we read the sequence of each UMI. We also account for small sequencing errors by aggregating counts of UMIs whose sequences are very similar to one another. \n",
    "\n",
    "This function takes in the following parameters:\n",
    "\n",
    "- **home_dir**: the filepath to the cellranger directory, storing the possorted bam\n",
    "- **fn**: the path to the genome bam file\n",
    "- **max_indels**: the maximum number of indels allowed between sequences for collapsing\n",
    "- **max_hq_mismatches**: the maximum number of hamming distance between sequences for collapsing\n",
    "- **max_UMI_distance**: the maximum number of mismatches between UMI sequences for collapsing\n",
    "- **show_progress**: whether or not to show the tqdm progress bar\n",
    "- **force_sort**: sort the input bam\n",
    "\n",
    "This function can also be run via command line with the `collapse` command -- use `collapse -h` to view all options. \n",
    "\n",
    "Finally, this function will ouptut a collapsed .bam file of reads as well as a .txt file, storing all reads and meta information that can be read in using pandas dataframes.\n",
    "\n"
   ]
  },
  {
   "cell_type": "code",
   "execution_count": 8,
   "metadata": {},
   "outputs": [],
   "source": [
    "pipeline.collapseUMIs(home_dir, genome_bam, show_progress = False, force_sort=False)"
   ]
  },
  {
   "cell_type": "markdown",
   "metadata": {},
   "source": [
    "### Pick Sequences\n",
    "\n",
    "After running the collapsing function, which aggregates together identical reads, we'd like to assign a unique read to each UMI barcode sequence. The way we accomplish this is by simply selecting the sequence associated with the UMI that has the most reads. The majority of times, these will be clear; however, we still perform UMI filtering downstream that will remove any ambiguous reads. This is also the first step that performs a cell-barcode filtering, based on the number of UMIs that are observed per cell. \n",
    "\n",
    "The parameters that can be passed to this function are the following:\n",
    "\n",
    "- **moltable**: the moleculetable dataframe on which to perform this function (this can be the `.collapsed.txt` dataframe created in the last step)\n",
    "- **out_fp**: the output path name of the resulting dataframe\n",
    "- **output_dir**: the output directory for storing all plotting output\n",
    "- **cell_umi_thresh**: the minimum number of UMIs per cell, used for cell filtering (default = 10)\n",
    "- **avg_reads_per_UMI_thresh**: the number of reads per UMI allowed, used for UMI filtering (default = 2)\n",
    "- **save_output**: allows for writing of the text file; else just the molecule table will be returned (default = False)"
   ]
  },
  {
   "cell_type": "code",
   "execution_count": 106,
   "metadata": {},
   "outputs": [
    {
     "data": {
      "application/vnd.jupyter.widget-view+json": {
       "model_id": "dc121021a88f479b909294a789eabd3c",
       "version_major": 2,
       "version_minor": 0
      },
      "text/plain": [
       "HBox(children=(IntProgress(value=0, max=1195429), HTML(value='')))"
      ]
     },
     "metadata": {},
     "output_type": "display_data"
    },
    {
     "name": "stdout",
     "output_type": "stream",
     "text": [
      "\n"
     ]
    },
    {
     "data": {
      "application/vnd.jupyter.widget-view+json": {
       "model_id": "b0369b6241bd4d4daea6756c97bf951f",
       "version_major": 2,
       "version_minor": 0
      },
      "text/plain": [
       "HBox(children=(IntProgress(value=0, max=84769), HTML(value='')))"
      ]
     },
     "metadata": {},
     "output_type": "display_data"
    },
    {
     "name": "stdout",
     "output_type": "stream",
     "text": [
      "\n"
     ]
    }
   ],
   "source": [
    "collapsed_UMIs = pd.read_csv(\"test_possorted_genome_bam_sorted.collapsed.txt\", sep = \"\\t\")\n",
    "resolved_UMIs = pipeline.resolve_UMI_sequence(collapsed_UMIs, \".\", min_umi_per_cell=1, min_avg_reads_per_umi=1, plot = False)"
   ]
  },
  {
   "cell_type": "code",
   "execution_count": 117,
   "metadata": {},
   "outputs": [
    {
     "data": {
      "text/plain": [
       "299483"
      ]
     },
     "execution_count": 117,
     "metadata": {},
     "output_type": "execute_result"
    }
   ],
   "source": [
    "len([i for i in resolved_UMIs.groupby([\"cellBC\", \"UMI\"]).size() if i > 1])"
   ]
  },
  {
   "cell_type": "code",
   "execution_count": 3,
   "metadata": {},
   "outputs": [
    {
     "data": {
      "application/vnd.jupyter.widget-view+json": {
       "model_id": "876fed2d905a41f28e8bff26ffcd1d53",
       "version_major": 2,
       "version_minor": 0
      },
      "text/plain": [
       "HBox(children=(IntProgress(value=0, max=4), HTML(value='')))"
      ]
     },
     "metadata": {},
     "output_type": "display_data"
    },
    {
     "name": "stdout",
     "output_type": "stream",
     "text": [
      "\n"
     ]
    },
    {
     "data": {
      "application/vnd.jupyter.widget-view+json": {
       "model_id": "18c8f275d29847fa86a102c2cd948e8d",
       "version_major": 2,
       "version_minor": 0
      },
      "text/plain": [
       "HBox(children=(IntProgress(value=0, max=3), HTML(value='')))"
      ]
     },
     "metadata": {},
     "output_type": "display_data"
    },
    {
     "name": "stdout",
     "output_type": "stream",
     "text": [
      "\n"
     ]
    },
    {
     "data": {
      "application/vnd.jupyter.widget-view+json": {
       "model_id": "9c2fef0721ef4aa8b5e0bce2a8aa7400",
       "version_major": 2,
       "version_minor": 0
      },
      "text/plain": [
       "HBox(children=(IntProgress(value=0, description='Parsing CIGAR strings into indels', max=2, style=ProgressStyl…"
      ]
     },
     "metadata": {},
     "output_type": "display_data"
    },
    {
     "name": "stderr",
     "output_type": "stream",
     "text": [
      "Filter cells: 100%|██████████| 1/1 [00:00<00:00, 818.72it/s]"
     ]
    },
    {
     "name": "stdout",
     "output_type": "stream",
     "text": [
      "\n"
     ]
    },
    {
     "name": "stderr",
     "output_type": "stream",
     "text": [
      "\n"
     ]
    },
    {
     "ename": "IndexError",
     "evalue": "cannot do a non-empty take from an empty axes.",
     "output_type": "error",
     "traceback": [
      "\u001b[0;31m---------------------------------------------------------------------------\u001b[0m",
      "\u001b[0;31mIndexError\u001b[0m                                Traceback (most recent call last)",
      "\u001b[0;32m<ipython-input-3-c4c86fa69ba0>\u001b[0m in \u001b[0;36m<module>\u001b[0;34m\u001b[0m\n\u001b[1;32m      4\u001b[0m \u001b[0mindels\u001b[0m \u001b[0;34m=\u001b[0m \u001b[0mpipeline\u001b[0m\u001b[0;34m.\u001b[0m\u001b[0mcall_alleles\u001b[0m\u001b[0;34m(\u001b[0m\u001b[0maligned\u001b[0m\u001b[0;34m,\u001b[0m \u001b[0mref\u001b[0m \u001b[0;34m=\u001b[0m \u001b[0;34m\"AATCCAGCTAGCTGA\"\u001b[0m\u001b[0;34m)\u001b[0m\u001b[0;34m\u001b[0m\u001b[0;34m\u001b[0m\u001b[0m\n\u001b[1;32m      5\u001b[0m \u001b[0mcorrected_UMIs\u001b[0m \u001b[0;34m=\u001b[0m \u001b[0mpipeline\u001b[0m\u001b[0;34m.\u001b[0m\u001b[0merror_correct_umis\u001b[0m\u001b[0;34m(\u001b[0m\u001b[0mindels\u001b[0m\u001b[0;34m,\u001b[0m \u001b[0;34m\"test\"\u001b[0m\u001b[0;34m)\u001b[0m\u001b[0;34m\u001b[0m\u001b[0;34m\u001b[0m\u001b[0m\n\u001b[0;32m----> 6\u001b[0;31m \u001b[0mfiltered_mol_table\u001b[0m \u001b[0;34m=\u001b[0m \u001b[0mpipeline\u001b[0m\u001b[0;34m.\u001b[0m\u001b[0mfilter_alignments\u001b[0m\u001b[0;34m(\u001b[0m\u001b[0mcorrected_UMIs\u001b[0m\u001b[0;34m,\u001b[0m \u001b[0;34m\".\"\u001b[0m\u001b[0;34m,\u001b[0m \u001b[0mdoublet_threshold\u001b[0m\u001b[0;34m=\u001b[0m\u001b[0;36m0.1\u001b[0m\u001b[0;34m)\u001b[0m\u001b[0;34m\u001b[0m\u001b[0;34m\u001b[0m\u001b[0m\n\u001b[0m\u001b[1;32m      7\u001b[0m \u001b[0mpipeline\u001b[0m\u001b[0;34m.\u001b[0m\u001b[0mcall_lineage_groups\u001b[0m\u001b[0;34m(\u001b[0m\u001b[0mfiltered_mol_table\u001b[0m\u001b[0;34m,\u001b[0m \u001b[0;34m\"lg_output/test.alleleTable.txt\"\u001b[0m\u001b[0;34m)\u001b[0m\u001b[0;34m\u001b[0m\u001b[0;34m\u001b[0m\u001b[0m\n",
      "\u001b[0;32m~/.local/lib/python3.6/site-packages/cassiopeia/preprocess/pipeline.py\u001b[0m in \u001b[0;36mfilter_alignments\u001b[0;34m(input_df, output_directory, cell_umi_thresh, umi_read_thresh, intbc_prop_thresh, intbc_umi_thresh, intbc_dist_thresh, doublet_threshold, plot, verbose)\u001b[0m\n\u001b[1;32m    588\u001b[0m     \u001b[0;32mif\u001b[0m \u001b[0mumi_read_thresh\u001b[0m \u001b[0;32mis\u001b[0m \u001b[0;32mNone\u001b[0m\u001b[0;34m:\u001b[0m\u001b[0;34m\u001b[0m\u001b[0;34m\u001b[0m\u001b[0m\n\u001b[1;32m    589\u001b[0m         \u001b[0mR\u001b[0m \u001b[0;34m=\u001b[0m \u001b[0mfiltered_df\u001b[0m\u001b[0;34m[\u001b[0m\u001b[0;34m\"ReadCount\"\u001b[0m\u001b[0;34m]\u001b[0m\u001b[0;34m\u001b[0m\u001b[0;34m\u001b[0m\u001b[0m\n\u001b[0;32m--> 590\u001b[0;31m         \u001b[0mumi_read_thresh\u001b[0m \u001b[0;34m=\u001b[0m \u001b[0mnp\u001b[0m\u001b[0;34m.\u001b[0m\u001b[0mpercentile\u001b[0m\u001b[0;34m(\u001b[0m\u001b[0mR\u001b[0m\u001b[0;34m,\u001b[0m \u001b[0;36m99\u001b[0m\u001b[0;34m)\u001b[0m \u001b[0;34m/\u001b[0m \u001b[0;36m10\u001b[0m\u001b[0;34m\u001b[0m\u001b[0;34m\u001b[0m\u001b[0m\n\u001b[0m\u001b[1;32m    591\u001b[0m     filtered_df = filter_utils.filter_umis(\n\u001b[1;32m    592\u001b[0m         \u001b[0mfiltered_df\u001b[0m\u001b[0;34m,\u001b[0m \u001b[0mreadCountThresh\u001b[0m\u001b[0;34m=\u001b[0m\u001b[0mumi_read_thresh\u001b[0m\u001b[0;34m,\u001b[0m \u001b[0mverbose\u001b[0m\u001b[0;34m=\u001b[0m\u001b[0mverbose\u001b[0m\u001b[0;34m\u001b[0m\u001b[0;34m\u001b[0m\u001b[0m\n",
      "\u001b[0;32m<__array_function__ internals>\u001b[0m in \u001b[0;36mpercentile\u001b[0;34m(*args, **kwargs)\u001b[0m\n",
      "\u001b[0;32m~/.local/lib/python3.6/site-packages/numpy/lib/function_base.py\u001b[0m in \u001b[0;36mpercentile\u001b[0;34m(a, q, axis, out, overwrite_input, interpolation, keepdims)\u001b[0m\n\u001b[1;32m   3704\u001b[0m         \u001b[0;32mraise\u001b[0m \u001b[0mValueError\u001b[0m\u001b[0;34m(\u001b[0m\u001b[0;34m\"Percentiles must be in the range [0, 100]\"\u001b[0m\u001b[0;34m)\u001b[0m\u001b[0;34m\u001b[0m\u001b[0;34m\u001b[0m\u001b[0m\n\u001b[1;32m   3705\u001b[0m     return _quantile_unchecked(\n\u001b[0;32m-> 3706\u001b[0;31m         a, q, axis, out, overwrite_input, interpolation, keepdims)\n\u001b[0m\u001b[1;32m   3707\u001b[0m \u001b[0;34m\u001b[0m\u001b[0m\n\u001b[1;32m   3708\u001b[0m \u001b[0;34m\u001b[0m\u001b[0m\n",
      "\u001b[0;32m~/.local/lib/python3.6/site-packages/numpy/lib/function_base.py\u001b[0m in \u001b[0;36m_quantile_unchecked\u001b[0;34m(a, q, axis, out, overwrite_input, interpolation, keepdims)\u001b[0m\n\u001b[1;32m   3824\u001b[0m     r, k = _ureduce(a, func=_quantile_ureduce_func, q=q, axis=axis, out=out,\n\u001b[1;32m   3825\u001b[0m                     \u001b[0moverwrite_input\u001b[0m\u001b[0;34m=\u001b[0m\u001b[0moverwrite_input\u001b[0m\u001b[0;34m,\u001b[0m\u001b[0;34m\u001b[0m\u001b[0;34m\u001b[0m\u001b[0m\n\u001b[0;32m-> 3826\u001b[0;31m                     interpolation=interpolation)\n\u001b[0m\u001b[1;32m   3827\u001b[0m     \u001b[0;32mif\u001b[0m \u001b[0mkeepdims\u001b[0m\u001b[0;34m:\u001b[0m\u001b[0;34m\u001b[0m\u001b[0;34m\u001b[0m\u001b[0m\n\u001b[1;32m   3828\u001b[0m         \u001b[0;32mreturn\u001b[0m \u001b[0mr\u001b[0m\u001b[0;34m.\u001b[0m\u001b[0mreshape\u001b[0m\u001b[0;34m(\u001b[0m\u001b[0mq\u001b[0m\u001b[0;34m.\u001b[0m\u001b[0mshape\u001b[0m \u001b[0;34m+\u001b[0m \u001b[0mk\u001b[0m\u001b[0;34m)\u001b[0m\u001b[0;34m\u001b[0m\u001b[0;34m\u001b[0m\u001b[0m\n",
      "\u001b[0;32m~/.local/lib/python3.6/site-packages/numpy/lib/function_base.py\u001b[0m in \u001b[0;36m_ureduce\u001b[0;34m(a, func, **kwargs)\u001b[0m\n\u001b[1;32m   3401\u001b[0m         \u001b[0mkeepdim\u001b[0m \u001b[0;34m=\u001b[0m \u001b[0;34m(\u001b[0m\u001b[0;36m1\u001b[0m\u001b[0;34m,\u001b[0m\u001b[0;34m)\u001b[0m \u001b[0;34m*\u001b[0m \u001b[0ma\u001b[0m\u001b[0;34m.\u001b[0m\u001b[0mndim\u001b[0m\u001b[0;34m\u001b[0m\u001b[0;34m\u001b[0m\u001b[0m\n\u001b[1;32m   3402\u001b[0m \u001b[0;34m\u001b[0m\u001b[0m\n\u001b[0;32m-> 3403\u001b[0;31m     \u001b[0mr\u001b[0m \u001b[0;34m=\u001b[0m \u001b[0mfunc\u001b[0m\u001b[0;34m(\u001b[0m\u001b[0ma\u001b[0m\u001b[0;34m,\u001b[0m \u001b[0;34m**\u001b[0m\u001b[0mkwargs\u001b[0m\u001b[0;34m)\u001b[0m\u001b[0;34m\u001b[0m\u001b[0;34m\u001b[0m\u001b[0m\n\u001b[0m\u001b[1;32m   3404\u001b[0m     \u001b[0;32mreturn\u001b[0m \u001b[0mr\u001b[0m\u001b[0;34m,\u001b[0m \u001b[0mkeepdim\u001b[0m\u001b[0;34m\u001b[0m\u001b[0;34m\u001b[0m\u001b[0m\n\u001b[1;32m   3405\u001b[0m \u001b[0;34m\u001b[0m\u001b[0m\n",
      "\u001b[0;32m~/.local/lib/python3.6/site-packages/numpy/lib/function_base.py\u001b[0m in \u001b[0;36m_quantile_ureduce_func\u001b[0;34m(a, q, axis, out, overwrite_input, interpolation, keepdims)\u001b[0m\n\u001b[1;32m   3939\u001b[0m             \u001b[0mn\u001b[0m \u001b[0;34m=\u001b[0m \u001b[0mnp\u001b[0m\u001b[0;34m.\u001b[0m\u001b[0misnan\u001b[0m\u001b[0;34m(\u001b[0m\u001b[0map\u001b[0m\u001b[0;34m[\u001b[0m\u001b[0;34m-\u001b[0m\u001b[0;36m1\u001b[0m\u001b[0;34m:\u001b[0m\u001b[0;34m,\u001b[0m \u001b[0;34m...\u001b[0m\u001b[0;34m]\u001b[0m\u001b[0;34m)\u001b[0m\u001b[0;34m\u001b[0m\u001b[0;34m\u001b[0m\u001b[0m\n\u001b[1;32m   3940\u001b[0m \u001b[0;34m\u001b[0m\u001b[0m\n\u001b[0;32m-> 3941\u001b[0;31m         \u001b[0mx1\u001b[0m \u001b[0;34m=\u001b[0m \u001b[0mtake\u001b[0m\u001b[0;34m(\u001b[0m\u001b[0map\u001b[0m\u001b[0;34m,\u001b[0m \u001b[0mindices_below\u001b[0m\u001b[0;34m,\u001b[0m \u001b[0maxis\u001b[0m\u001b[0;34m=\u001b[0m\u001b[0maxis\u001b[0m\u001b[0;34m)\u001b[0m \u001b[0;34m*\u001b[0m \u001b[0mweights_below\u001b[0m\u001b[0;34m\u001b[0m\u001b[0;34m\u001b[0m\u001b[0m\n\u001b[0m\u001b[1;32m   3942\u001b[0m         \u001b[0mx2\u001b[0m \u001b[0;34m=\u001b[0m \u001b[0mtake\u001b[0m\u001b[0;34m(\u001b[0m\u001b[0map\u001b[0m\u001b[0;34m,\u001b[0m \u001b[0mindices_above\u001b[0m\u001b[0;34m,\u001b[0m \u001b[0maxis\u001b[0m\u001b[0;34m=\u001b[0m\u001b[0maxis\u001b[0m\u001b[0;34m)\u001b[0m \u001b[0;34m*\u001b[0m \u001b[0mweights_above\u001b[0m\u001b[0;34m\u001b[0m\u001b[0;34m\u001b[0m\u001b[0m\n\u001b[1;32m   3943\u001b[0m \u001b[0;34m\u001b[0m\u001b[0m\n",
      "\u001b[0;32m<__array_function__ internals>\u001b[0m in \u001b[0;36mtake\u001b[0;34m(*args, **kwargs)\u001b[0m\n",
      "\u001b[0;32m~/.local/lib/python3.6/site-packages/numpy/core/fromnumeric.py\u001b[0m in \u001b[0;36mtake\u001b[0;34m(a, indices, axis, out, mode)\u001b[0m\n\u001b[1;32m    192\u001b[0m            [5, 7]])\n\u001b[1;32m    193\u001b[0m     \"\"\"\n\u001b[0;32m--> 194\u001b[0;31m     \u001b[0;32mreturn\u001b[0m \u001b[0m_wrapfunc\u001b[0m\u001b[0;34m(\u001b[0m\u001b[0ma\u001b[0m\u001b[0;34m,\u001b[0m \u001b[0;34m'take'\u001b[0m\u001b[0;34m,\u001b[0m \u001b[0mindices\u001b[0m\u001b[0;34m,\u001b[0m \u001b[0maxis\u001b[0m\u001b[0;34m=\u001b[0m\u001b[0maxis\u001b[0m\u001b[0;34m,\u001b[0m \u001b[0mout\u001b[0m\u001b[0;34m=\u001b[0m\u001b[0mout\u001b[0m\u001b[0;34m,\u001b[0m \u001b[0mmode\u001b[0m\u001b[0;34m=\u001b[0m\u001b[0mmode\u001b[0m\u001b[0;34m)\u001b[0m\u001b[0;34m\u001b[0m\u001b[0;34m\u001b[0m\u001b[0m\n\u001b[0m\u001b[1;32m    195\u001b[0m \u001b[0;34m\u001b[0m\u001b[0m\n\u001b[1;32m    196\u001b[0m \u001b[0;34m\u001b[0m\u001b[0m\n",
      "\u001b[0;32m~/.local/lib/python3.6/site-packages/numpy/core/fromnumeric.py\u001b[0m in \u001b[0;36m_wrapfunc\u001b[0;34m(obj, method, *args, **kwds)\u001b[0m\n\u001b[1;32m     59\u001b[0m \u001b[0;34m\u001b[0m\u001b[0m\n\u001b[1;32m     60\u001b[0m     \u001b[0;32mtry\u001b[0m\u001b[0;34m:\u001b[0m\u001b[0;34m\u001b[0m\u001b[0;34m\u001b[0m\u001b[0m\n\u001b[0;32m---> 61\u001b[0;31m         \u001b[0;32mreturn\u001b[0m \u001b[0mbound\u001b[0m\u001b[0;34m(\u001b[0m\u001b[0;34m*\u001b[0m\u001b[0margs\u001b[0m\u001b[0;34m,\u001b[0m \u001b[0;34m**\u001b[0m\u001b[0mkwds\u001b[0m\u001b[0;34m)\u001b[0m\u001b[0;34m\u001b[0m\u001b[0;34m\u001b[0m\u001b[0m\n\u001b[0m\u001b[1;32m     62\u001b[0m     \u001b[0;32mexcept\u001b[0m \u001b[0mTypeError\u001b[0m\u001b[0;34m:\u001b[0m\u001b[0;34m\u001b[0m\u001b[0;34m\u001b[0m\u001b[0m\n\u001b[1;32m     63\u001b[0m         \u001b[0;31m# A TypeError occurs if the object does have such a method in its\u001b[0m\u001b[0;34m\u001b[0m\u001b[0;34m\u001b[0m\u001b[0;34m\u001b[0m\u001b[0m\n",
      "\u001b[0;31mIndexError\u001b[0m: cannot do a non-empty take from an empty axes."
     ]
    }
   ],
   "source": [
    "collapsed_UMIs = pipeline.collapse_umis(home_dir, test_bam, show_progress = False, force_sort = False)\n",
    "resolved_UMIs = pipeline.resolve_umi_sequence(collapsed_UMIs, \".\", min_umi_per_cell=1, min_avg_reads_per_umi=1, plot = False)\n",
    "aligned = pipeline.align_sequences(resolved_UMIs, ref = \"AATCCAGCTAGCTGA\")\n",
    "indels = pipeline.call_alleles(aligned, ref = \"AATCCAGCTAGCTGA\")\n",
    "corrected_UMIs = pipeline.error_correct_umis(indels, \"test\")\n",
    "\n",
    "filtered_mol_table = pipeline.filter_alignments(corrected_UMIs, \".\", doublet_threshold=0.1)\n",
    "pipeline.call_lineage_groups(filtered_mol_table, \"lg_output/test.alleleTable.txt\")"
   ]
  },
  {
   "cell_type": "code",
   "execution_count": 6,
   "metadata": {},
   "outputs": [
    {
     "data": {
      "text/html": [
       "<div>\n",
       "<style scoped>\n",
       "    .dataframe tbody tr th:only-of-type {\n",
       "        vertical-align: middle;\n",
       "    }\n",
       "\n",
       "    .dataframe tbody tr th {\n",
       "        vertical-align: top;\n",
       "    }\n",
       "\n",
       "    .dataframe thead th {\n",
       "        text-align: right;\n",
       "    }\n",
       "</style>\n",
       "<table border=\"1\" class=\"dataframe\">\n",
       "  <thead>\n",
       "    <tr style=\"text-align: right;\">\n",
       "      <th></th>\n",
       "      <th>readName</th>\n",
       "      <th>AlignmentScore</th>\n",
       "      <th>CIGAR</th>\n",
       "      <th>QueryBegin</th>\n",
       "      <th>ReadCount</th>\n",
       "      <th>ReferenceBegin</th>\n",
       "      <th>Seq</th>\n",
       "      <th>UMI</th>\n",
       "      <th>allele</th>\n",
       "      <th>cellBC</th>\n",
       "      <th>intBC</th>\n",
       "      <th>r1</th>\n",
       "      <th>r2</th>\n",
       "      <th>r3</th>\n",
       "      <th>status</th>\n",
       "    </tr>\n",
       "  </thead>\n",
       "  <tbody>\n",
       "    <tr>\n",
       "      <th>0</th>\n",
       "      <td>CTCACACTCGAATGCT-1_TGGCCTTTAT_3</td>\n",
       "      <td>70.0</td>\n",
       "      <td>14M</td>\n",
       "      <td>1.0</td>\n",
       "      <td>3.0</td>\n",
       "      <td>1.0</td>\n",
       "      <td>NATCCAGCTAGCTGA</td>\n",
       "      <td>TGGCCTTTAT</td>\n",
       "      <td></td>\n",
       "      <td>CTCACACTCGAATGCT-1</td>\n",
       "      <td></td>\n",
       "      <td></td>\n",
       "      <td></td>\n",
       "      <td></td>\n",
       "      <td>bad</td>\n",
       "    </tr>\n",
       "  </tbody>\n",
       "</table>\n",
       "</div>"
      ],
      "text/plain": [
       "                          readName  AlignmentScore CIGAR  QueryBegin  \\\n",
       "0  CTCACACTCGAATGCT-1_TGGCCTTTAT_3            70.0   14M         1.0   \n",
       "\n",
       "   ReadCount  ReferenceBegin              Seq         UMI allele  \\\n",
       "0        3.0             1.0  NATCCAGCTAGCTGA  TGGCCTTTAT          \n",
       "\n",
       "               cellBC intBC r1 r2 r3 status  \n",
       "0  CTCACACTCGAATGCT-1                   bad  "
      ]
     },
     "execution_count": 6,
     "metadata": {},
     "output_type": "execute_result"
    }
   ],
   "source": [
    "corrected_UMIs"
   ]
  },
  {
   "cell_type": "code",
   "execution_count": 15,
   "metadata": {},
   "outputs": [
    {
     "name": "stdout",
     "output_type": "stream",
     "text": [
      "<class 'numpy.int64'>\n"
     ]
    },
    {
     "data": {
      "text/html": [
       "<div>\n",
       "<style scoped>\n",
       "    .dataframe tbody tr th:only-of-type {\n",
       "        vertical-align: middle;\n",
       "    }\n",
       "\n",
       "    .dataframe tbody tr th {\n",
       "        vertical-align: top;\n",
       "    }\n",
       "\n",
       "    .dataframe thead th {\n",
       "        text-align: right;\n",
       "    }\n",
       "</style>\n",
       "<table border=\"1\" class=\"dataframe\">\n",
       "  <thead>\n",
       "    <tr style=\"text-align: right;\">\n",
       "      <th></th>\n",
       "      <th>cellBC</th>\n",
       "      <th>UMI</th>\n",
       "      <th>ReadCount</th>\n",
       "      <th>Seq</th>\n",
       "      <th>intBC</th>\n",
       "      <th>r1</th>\n",
       "      <th>r2</th>\n",
       "      <th>r3</th>\n",
       "      <th>AlignmentScore</th>\n",
       "      <th>CIGAR</th>\n",
       "      <th>Querybegin</th>\n",
       "      <th>Referencebegin</th>\n",
       "      <th>readName</th>\n",
       "      <th>allele</th>\n",
       "    </tr>\n",
       "  </thead>\n",
       "  <tbody>\n",
       "    <tr>\n",
       "      <th>1</th>\n",
       "      <td>A</td>\n",
       "      <td>AACCG</td>\n",
       "      <td>30</td>\n",
       "      <td>AACCTTGG</td>\n",
       "      <td>X</td>\n",
       "      <td>1</td>\n",
       "      <td>2</td>\n",
       "      <td>3</td>\n",
       "      <td>20</td>\n",
       "      <td>NA</td>\n",
       "      <td>0</td>\n",
       "      <td>0</td>\n",
       "      <td>A_AACCG_30</td>\n",
       "      <td>1_2_3</td>\n",
       "    </tr>\n",
       "    <tr>\n",
       "      <th>2</th>\n",
       "      <td>A</td>\n",
       "      <td>AACCC</td>\n",
       "      <td>30</td>\n",
       "      <td>AACCTTCC</td>\n",
       "      <td>X</td>\n",
       "      <td>1</td>\n",
       "      <td>2</td>\n",
       "      <td>3</td>\n",
       "      <td>20</td>\n",
       "      <td>NA</td>\n",
       "      <td>0</td>\n",
       "      <td>0</td>\n",
       "      <td>A_AACCC_30</td>\n",
       "      <td>1_2_3</td>\n",
       "    </tr>\n",
       "    <tr>\n",
       "      <th>3</th>\n",
       "      <td>B</td>\n",
       "      <td>AACCT</td>\n",
       "      <td>40</td>\n",
       "      <td>AACCTTGG</td>\n",
       "      <td>Y</td>\n",
       "      <td>1</td>\n",
       "      <td>2</td>\n",
       "      <td>3</td>\n",
       "      <td>20</td>\n",
       "      <td>NA</td>\n",
       "      <td>0</td>\n",
       "      <td>0</td>\n",
       "      <td>B_AACCT_40</td>\n",
       "      <td>1_2_3</td>\n",
       "    </tr>\n",
       "    <tr>\n",
       "      <th>5</th>\n",
       "      <td>C</td>\n",
       "      <td>AACCT</td>\n",
       "      <td>110</td>\n",
       "      <td>AACCTTCC</td>\n",
       "      <td>Z</td>\n",
       "      <td>1</td>\n",
       "      <td>2</td>\n",
       "      <td>3</td>\n",
       "      <td>20</td>\n",
       "      <td>NA</td>\n",
       "      <td>0</td>\n",
       "      <td>0</td>\n",
       "      <td>C_AACCT_110</td>\n",
       "      <td>1_2_3</td>\n",
       "    </tr>\n",
       "    <tr>\n",
       "      <th>7</th>\n",
       "      <td>C</td>\n",
       "      <td>AAGGA</td>\n",
       "      <td>15</td>\n",
       "      <td>AACCTCAG</td>\n",
       "      <td>Z</td>\n",
       "      <td>1</td>\n",
       "      <td>2</td>\n",
       "      <td>3</td>\n",
       "      <td>20</td>\n",
       "      <td>NA</td>\n",
       "      <td>0</td>\n",
       "      <td>0</td>\n",
       "      <td>C_AAGGA_15</td>\n",
       "      <td>1_2_3</td>\n",
       "    </tr>\n",
       "  </tbody>\n",
       "</table>\n",
       "</div>"
      ],
      "text/plain": [
       "  cellBC    UMI  ReadCount       Seq intBC r1 r2 r3 AlignmentScore CIGAR  \\\n",
       "1      A  AACCG         30  AACCTTGG     X  1  2  3             20    NA   \n",
       "2      A  AACCC         30  AACCTTCC     X  1  2  3             20    NA   \n",
       "3      B  AACCT         40  AACCTTGG     Y  1  2  3             20    NA   \n",
       "5      C  AACCT        110  AACCTTCC     Z  1  2  3             20    NA   \n",
       "7      C  AAGGA         15  AACCTCAG     Z  1  2  3             20    NA   \n",
       "\n",
       "   Querybegin  Referencebegin     readName allele  \n",
       "1           0               0   A_AACCG_30  1_2_3  \n",
       "2           0               0   A_AACCC_30  1_2_3  \n",
       "3           0               0   B_AACCT_40  1_2_3  \n",
       "5           0               0  C_AACCT_110  1_2_3  \n",
       "7           0               0   C_AAGGA_15  1_2_3  "
      ]
     },
     "execution_count": 15,
     "metadata": {},
     "output_type": "execute_result"
    }
   ],
   "source": [
    "df = pd.DataFrame.from_dict(\n",
    "    {\n",
    "        \"cellBC\": [\n",
    "            \"A\",\n",
    "            \"A\",\n",
    "            \"A\",\n",
    "            \"B\",\n",
    "            \"B\",\n",
    "            \"C\",\n",
    "            \"C\",\n",
    "            \"C\",\n",
    "            \"C\"\n",
    "        ],\n",
    "        \"UMI\": [\n",
    "            \"AACCT\",\n",
    "            \"AACCG\",\n",
    "            \"AACCC\",\n",
    "            \"AACCT\",\n",
    "            \"AACCG\",\n",
    "            \"AACCT\",\n",
    "            \"AACCG\",\n",
    "            \"AAGGA\",\n",
    "            \"AACCT\"\n",
    "        ],\n",
    "        \"ReadCount\": [10, 30, 30, 40, 10, 110, 10, 15, 10],\n",
    "        \"Seq\": [\n",
    "            \"AACCTTGG\",\n",
    "            \"AACCTTGG\",\n",
    "            \"AACCTTCC\",\n",
    "            \"AACCTTGG\",\n",
    "            \"AACCTTGC\",\n",
    "            \"AACCTTCC\",\n",
    "            \"AACCTTCG\",\n",
    "            \"AACCTCAG\",\n",
    "            \"AACCTTGG\"\n",
    "        ],\n",
    "        \"intBC\": [\n",
    "            \"X\",\n",
    "            \"X\",\n",
    "            \"X\",\n",
    "            \"Y\",\n",
    "            \"Y\",\n",
    "            \"Z\",\n",
    "            \"Z\",\n",
    "            \"Z\",\n",
    "            \"W\"\n",
    "        ],\n",
    "        \"r1\": [\"1\"] * 9,\n",
    "        \"r2\": [\"2\"] * 9,\n",
    "        \"r3\": [\"3\"] * 9,\n",
    "        \"AlignmentScore\": [\"20\"] * 9,\n",
    "        \"CIGAR\": [\"NA\"] * 9,\n",
    "        \"Querybegin\": [0] * 9,\n",
    "        \"Referencebegin\": [0] * 9\n",
    "    }\n",
    "    )\n",
    "df[\"readName\"] = df.apply(\n",
    "lambda x: \"_\".join([x.cellBC, x.UMI, str(x.ReadCount)]), axis=1\n",
    ")\n",
    "\n",
    "df[\"allele\"] = df.apply(\n",
    "lambda x: \"_\".join([x.r1, x.r2, x.r3]), axis=1\n",
    ")\n",
    "print(type(df[\"ReadCount\"][0]))\n",
    "n_moleculetable = df[\n",
    "        df[\"ReadCount\"] > 10\n",
    "    ]\n",
    "\n",
    "n_moleculetable"
   ]
  },
  {
   "cell_type": "markdown",
   "metadata": {},
   "source": [
    "### Aligning of Sequences & Calling Alleles\n",
    "\n",
    "With individual mappings of sequences to UMIs, we're now ready to call the alleles for each UMI -- namely, the outcomes of Cas9 cuts that will be used to reconstruct lineages. We use the Smith-Waterman aligner here as it is good at removing parts of sequences that result from outrageous editing outcomes (e.g. translocations or complete removal of the target site). We find that the optimal parameters consist of a Gap Opening penalty of 20 and a Gap Extension Penalty of 1, as found via simulations (see the manuscript for more details). \n",
    "\n",
    "The function that should be used for this step is `align_sequences`, which takes the following parameters:\n",
    "\n",
    "- **ref**: file path to the reference sequence\n",
    "- **queries**: file path to the dataframe consisting of UMI sequences to be aligned \n",
    "- **outfile**: file path to the output file\n",
    "- **gapopen**: gap open penalty (default = 20)\n",
    "- **gapextend**: gap extension penalty (default = 1)\n",
    "- **ref_format**: reference sequence format (default = fasta)\n",
    "- **query_format**: query sequence foramt (default = fastq)\n",
    "- **out_format**: output format (default = sam)\n",
    "\n",
    "\n",
    "The result of this function will be the creation of an output sam file, which can be used to call alleles and then turned into a UMI-table, mapping UMIs to alleles."
   ]
  },
  {
   "cell_type": "code",
   "execution_count": 12,
   "metadata": {},
   "outputs": [
    {
     "name": "stdout",
     "output_type": "stream",
     "text": [
      "ATCCAGCTAGCTG\n",
      "ATCCAGCTAGCTG\n",
      "Score: 65\n",
      "Length: 13\n",
      "1\n",
      "1\n",
      "ATCCAGCTAGCTG\n",
      "ATCCAGCTAGCTG\n",
      "Score: 65\n",
      "Length: 13\n",
      "1\n",
      "1\n"
     ]
    },
    {
     "data": {
      "text/plain": [
       "readName          CTCACACTCGAATGCT-1_TGGCCTTTAT_000002_0\n",
       "cellBC                                CTCACACTCGAATGCT-1\n",
       "UMI                                           TGGCCTTTAT\n",
       "ReadCount                                              2\n",
       "CIGAR                                                13M\n",
       "AlignmentScore                                        65\n",
       "Seq                                      NATCCAGCTAGCTGA\n",
       "Name: 1, dtype: object"
      ]
     },
     "execution_count": 12,
     "metadata": {},
     "output_type": "execute_result"
    }
   ],
   "source": [
    "intBCLim = (21,34)\n",
    "refseq = \"\"\n",
    "f = open(\"/data/yosef2/users/richardz/projects/Cassiopeia/data/PCT48.ref.txt\", \"r\")\n",
    "for i in f:\n",
    "    if i[0] == \">\":\n",
    "        continue\n",
    "    else:\n",
    "        refseq = i\n",
    "\n",
    "refanchor = refseq[intBCLim[0]-11:intBCLim[0]-1]\n",
    "\n",
    "alignment_df = pipeline.align_sequences(resolved_UMIs, ref = refseq)\n",
    "alignment_df.loc[1]\n"
   ]
  },
  {
   "cell_type": "code",
   "execution_count": 43,
   "metadata": {},
   "outputs": [
    {
     "data": {
      "text/plain": [
       "750"
      ]
     },
     "execution_count": 43,
     "metadata": {},
     "output_type": "execute_result"
    }
   ],
   "source": [
    "len(\"AATCCAGCTAGCTGTGCAGCNNNNNNNNNNNNNNATTCAACTGCAGTAATGCTACCTCGTACTCACGCTTTCCAAGTGCTTGGCGTCGCATCTCGGTCCTTTGTACGCCGAAAAATGGCCTGACAACTAAGCTACGGCACGCTGCCATGTTGGGTCATAACGATATCTCTGGTTCATCCGTGACCGAACATGTCATGGAGTAGCAGGAGCTATTAATTCGCGGAGGACAATGCGGTTCGTAGTCACTGTCTTCCGCAATCGTCCATCGCTCCTGCAGGTGGCCTAGAGGGCCCGTTTAAACCCGCTGATCAGCCTCGACTGTGCCTTCTAGTTGCCAGCCATCTGTTGTTTGCCCCTCCCCCGTGCCTTCCTTGACCCTGGAAGGTGCCACTCCCACTGTCCTTTCCTAATAAAATGAGGAAATTGCATCGCATTGTCTGAGTAGGTGTCATTCTATTCTGGGGGGTGGGGTGGGGCAGGACAGCAAGGGGGAGGATTGGGAAGACAATAGCAGGCATGCTGGGGATGCGGTGGGCTCTATGGTCTAGAGCGGGCCCGGTACTAACCAAACTGGATCTCTGCTGTCCCTGTAATAAACCCGAAAATTTTGAATTTTTGTAATTTGTTTTTGTAATTCTTTAGTTTGTATGTCTGTTGCTATTATGTCTACTATTCTTTCCCCTGCACTGTACCCCCCAATCCCCCCTTTTCTTTTAAAATTGTGGATGAATACTGCCATTTGTCTGCAGA\")"
   ]
  },
  {
   "cell_type": "code",
   "execution_count": 22,
   "metadata": {},
   "outputs": [
    {
     "ename": "NameError",
     "evalue": "name 'substr' is not defined",
     "output_type": "error",
     "traceback": [
      "\u001b[0;31m---------------------------------------------------------------------------\u001b[0m",
      "\u001b[0;31mNameError\u001b[0m                                 Traceback (most recent call last)",
      "\u001b[0;32m<ipython-input-22-1b876c38ee8f>\u001b[0m in \u001b[0;36m<module>\u001b[0;34m\u001b[0m\n\u001b[1;32m     25\u001b[0m     \u001b[0mf\u001b[0m\u001b[0;34m.\u001b[0m\u001b[0mclose\u001b[0m\u001b[0;34m(\u001b[0m\u001b[0;34m)\u001b[0m\u001b[0;34m\u001b[0m\u001b[0;34m\u001b[0m\u001b[0m\n\u001b[1;32m     26\u001b[0m \u001b[0;34m\u001b[0m\u001b[0m\n\u001b[0;32m---> 27\u001b[0;31m \u001b[0msubstr\u001b[0m\u001b[0;34m(\u001b[0m\u001b[0;34m\"@CAACCTCGTGGGTATG-1_GATAACATCG_7\"\u001b[0m\u001b[0;34m,\u001b[0m \u001b[0;36m1\u001b[0m\u001b[0;34m,\u001b[0m \u001b[0;36m2\u001b[0m\u001b[0;34m)\u001b[0m\u001b[0;34m\u001b[0m\u001b[0;34m\u001b[0m\u001b[0m\n\u001b[0m",
      "\u001b[0;31mNameError\u001b[0m: name 'substr' is not defined"
     ]
    }
   ],
   "source": [
    "def collapseDF2fastq(data_fp, out_fp):\n",
    "    df = pd.read_csv(data_fp, sep = \"\\t\")\n",
    "    f = open(out_fp, \"w\")\n",
    "    for i, row in df.iterrows():\n",
    "        cellBC = row[0]\n",
    "        UMI = row[1]\n",
    "        readCount = row[2]\n",
    "        seq = row[4]\n",
    "        qual = row[5]\n",
    "        f.write(\n",
    "            \"@\" \n",
    "            + cellBC\n",
    "            + \"_\"\n",
    "            + UMI\n",
    "            + \"_\"\n",
    "            + str(readCount)\n",
    "            + \"\\n\"\n",
    "            + seq\n",
    "            + \"\\n\"\n",
    "            + \"+\"\n",
    "            + \"\\n\"\n",
    "            + qual\n",
    "            + \"\\n\"\n",
    "        )\n",
    "    f.close()\n",
    "    \n",
    "substr(\"@CAACCTCGTGGGTATG-1_GATAACATCG_7\", 1, 2)"
   ]
  },
  {
   "cell_type": "code",
   "execution_count": null,
   "metadata": {},
   "outputs": [],
   "source": [
    "num = 0\n",
    "bam_fh = pysam.AlignmentFile(\"test.sam\", ignore_truncation = True, check_header = False, check_sq=False)\n",
    "for i in bam_fh.fetch(until_eof=True):\n",
    "    num+=1\n",
    "    print(i)\n",
    "print(num)"
   ]
  },
  {
   "cell_type": "code",
   "execution_count": null,
   "metadata": {},
   "outputs": [],
   "source": [
    "collapseDF2fastq(\"test_sorted.collapsed.txt\", \"test_sorted.collapsed.fastq\")"
   ]
  },
  {
   "cell_type": "markdown",
   "metadata": {},
   "source": [
    "We now call indels by reading the alignment CIGAR string. This essentially consists of parsing out where insertions or deletions were detected from the alignment. We then output a file consisting of the indels called for each sequence; these will eventually be used to reconstruct lineages. \n",
    "\n",
    "The function used for this step ``call_indels`` takes the following parameters:\n",
    "\n",
    "- **alignments**: a .sam file containing the alignments.\n",
    "- **ref**: FASTA file containing the reference sequence for annotating where indels occurred & grabbing the context around them.\n",
    "- **output**: Output file, to be written as a .sam file.\n",
    "- **context**: Boolean value, indicating whether or not to include sequence context around the indel.\n",
    "\n",
    "This function will write to output a .sam file containing the called indels for each sequence."
   ]
  },
  {
   "cell_type": "code",
   "execution_count": null,
   "metadata": {},
   "outputs": [],
   "source": [
    "process.call_indels(\"data/test_sw_aligned.sam\", \"data/PCT48-long.ref.fa\", \"data/test_umi_table.sam\")"
   ]
  },
  {
   "cell_type": "code",
   "execution_count": 8,
   "metadata": {},
   "outputs": [
    {
     "data": {
      "text/plain": [
       "'AATCCAGCTAGCTGTGCAGCNNNNNNNNNNNNNNATTCAACTGCAGTAATGCTACCTCGTACTCACGCTTTCCAAGTGCTTGGCGTCGCATCTCGGTCCTTTGTACGCCGAAAAATGGCCTGACAACTAAGCTACGGCACGCTGCCATGTTGGGTCATAACGATATCTCTGGTTCATCCGTGACCGAACATGTCATGGAGTAGCAGGAGCTATTAATTCGCGGAGGACAATGCGGTTCGTAGTCACTGTCTTCCGCAATCGTCCATCGCTCCTGCAGGTGGCCTAGAGGGCCCGTTTAAACCCGCTGATCAGCCTCGACTGTGCCTTCTAGTTGCCAGCCATCTGTTGTTTGCCCCTCCCCCGTGCCTTCCTTGACCCTGGAAGGTGCCACTCCCACTGTCCTTTCCTAATAAAATGAGGAAATTGCATCGCATTGTCTGAGTAGGTGTCATTCTATTCTGGGGGGTGGGGTGGGGCAGGACAGCAAGGGGGAGGATTGGGAAGACAATAGCAGGCATGCTGGGGATGCGGTGGGCTCTATGGTCTAGAGCGGGCCCGGTACTAACCAAACTGGATCTCTGCTGTCCCTGTAATAAACCCGAAAATTTTGAATTTTTGTAATTTGTTTTTGTAATTCTTTAGTTTGTATGTCTGTTGCTATTATGTCTACTATTCTTTCCCCTGCACTGTACCCCCCAATCCCCCCTTTTCTTTTAAAATTGTGGATGAATACTGCCATTTGTCTGCAGA'"
      ]
     },
     "execution_count": 8,
     "metadata": {},
     "output_type": "execute_result"
    }
   ],
   "source": [
    "intBCLim = (21,34)\n",
    "refseq = \"\"\n",
    "f = open(\"/data/yosef2/users/richardz/projects/Cassiopeia/data/PCT48.ref.txt\", \"r\")\n",
    "for i in f:\n",
    "    if i[0] == \">\":\n",
    "        continue\n",
    "    else:\n",
    "        refseq = i\n",
    "refseq\n",
    "\n",
    "refanchor = refseq[intBCLim[0]-11:intBCLim[0]-1]\n",
    "refseq"
   ]
  },
  {
   "cell_type": "code",
   "execution_count": 40,
   "metadata": {},
   "outputs": [
    {
     "data": {
      "text/plain": [
       "'100.0'"
      ]
     },
     "execution_count": 40,
     "metadata": {},
     "output_type": "execute_result"
    }
   ],
   "source": [
    "\"{:.1f}\".format(100)"
   ]
  },
  {
   "cell_type": "code",
   "execution_count": 55,
   "metadata": {},
   "outputs": [
    {
     "data": {
      "text/plain": [
       "['1', '2', '7', '8']"
      ]
     },
     "execution_count": 55,
     "metadata": {},
     "output_type": "execute_result"
    }
   ],
   "source": [
    "df = pd.DataFrame([[\"7\", \"2\"], [\"1\", \"2\"], [\"7\", \"8\"]],\n",
    "     index=['cobra', 'cobra', 'sidewinder'],\n",
    "     columns=['max_speed', 'shield'])\n",
    "sorted(pd.unique(df.values.ravel()))"
   ]
  },
  {
   "cell_type": "markdown",
   "metadata": {},
   "source": [
    "### Error Correct UMIs\n",
    "\n",
    "We can now define equivalence classes of UMIs associated with idential cells and alelles. We'd like to error correct within these classes from UMIs with few reads to UMIs in the same equivalence class with high reads. This will overall reduce the amount of noise in the dataset and make more coherent alleletables for lineage group calling, doublet detection, and lineage reconstruction. \n",
    "\n",
    "You can use the `errorCorrectUMIs` function which takes the following parameters:\n",
    "\n",
    "- **input_fn**: the bam file on which to error correct\n",
    "- **_id**: the id to use \n",
    "- **log_file**: the file to log the error corrections in \n",
    "- **max_UMI_distance**: the maximum hamming distance between UMIs allowed (default = 2)\n",
    "- **show_progress**: update progress with tqdm (default = True)"
   ]
  },
  {
   "cell_type": "code",
   "execution_count": null,
   "metadata": {},
   "outputs": [],
   "source": [
    "process.errorCorrectUMIs(\"data/test_umi_table.bam\", \"test\", \"ec_log.txt\")"
   ]
  },
  {
   "cell_type": "markdown",
   "metadata": {},
   "source": [
    "### Filter Molecule Table\n",
    "\n",
    "This module will filter out low-quality cells, perform error correction on the intBCs, and throw out any doublets that report conflicting indel information. This function will call the ``filter-molecule-table`` command via dispatch to command line.  This wrapper function takes the following parameters:\n",
    "\n",
    "- **mt**: File path to the molecule table to be filtered\n",
    "- **out_fp**: Output file name. This will be written ``outputdir``\n",
    "- **outputdir**: Directory to output all logs and files\n",
    "- **cell_umi_filter**: Cell UMI Threshold for filtering (Default = 10)\n",
    "- **umi_read_thresh**: UMI read threshold for filtering (Default = dynamically computed using the 99th percentile / 10)\n",
    "- **intbc_prop_thresh**: A minimum proportion of reads required for the more abundant intBC during intBC error correction. If the proportion is not met, then error correction is not performed (i.e. we cannot trust this more abundant intBC enough).\n",
    "- **intbc_umi_thresh**: A minimum number of UMIs that need to b observed for the more abundant intBC during intBC error correction. \n",
    "- **intbc_dist_thresh**: A hamming distance threshold for considering intBCs to be error corrected\n",
    "- **verbose**: Verbose output, consisting of output log files.\n",
    "- **ec_intbc**: Error correct integration barcodes (Default = False)\n",
    "- **detect_intra_doublets**: Detect doublets based on conflicting indel information (Default = True)\n",
    "- **doublet_threshold**: Threshold to be used during intra doublet detection (Default = 0.35)\n",
    "\n",
    "This file will write to file a filtered molecule table. "
   ]
  },
  {
   "cell_type": "code",
   "execution_count": 41,
   "metadata": {},
   "outputs": [
    {
     "ename": "AttributeError",
     "evalue": "module 'cassiopeia.ProcessingPipeline.process' has no attribute 'filter_molecule_table'",
     "output_type": "error",
     "traceback": [
      "\u001b[0;31m---------------------------------------------------------------------------\u001b[0m",
      "\u001b[0;31mAttributeError\u001b[0m                            Traceback (most recent call last)",
      "\u001b[0;32m<ipython-input-41-8deea9d84d3e>\u001b[0m in \u001b[0;36m<module>\u001b[0;34m\u001b[0m\n\u001b[0;32m----> 1\u001b[0;31m \u001b[0mprocess\u001b[0m\u001b[0;34m.\u001b[0m\u001b[0mfilter_molecule_table\u001b[0m\u001b[0;34m(\u001b[0m\u001b[0;34m\"data/test_umi_table_sorted_ec.moleculeTable.txt\"\u001b[0m\u001b[0;34m,\u001b[0m \u001b[0;34m\"test.moleculeTable.filtered.txt\"\u001b[0m\u001b[0;34m,\u001b[0m \u001b[0;34m\"data/\"\u001b[0m\u001b[0;34m,\u001b[0m \u001b[0mdoublet_threshold\u001b[0m\u001b[0;34m=\u001b[0m\u001b[0;36m0.1\u001b[0m\u001b[0;34m)\u001b[0m\u001b[0;34m\u001b[0m\u001b[0;34m\u001b[0m\u001b[0m\n\u001b[0m",
      "\u001b[0;31mAttributeError\u001b[0m: module 'cassiopeia.ProcessingPipeline.process' has no attribute 'filter_molecule_table'"
     ]
    }
   ],
   "source": [
    "process.filter_molecule_table(\"data/test_umi_table_sorted_ec.moleculeTable.txt\", \"test.moleculeTable.filtered.txt\", \"data/\", doublet_threshold=0.1)"
   ]
  },
  {
   "cell_type": "markdown",
   "metadata": {},
   "source": [
    "If you have multiple samples, we have a small script that will append to the cellBC a sampleID of your choice. The parameters for this function, ``changeCellBCID`` are:\n",
    "\n",
    "- **alleleTableIN**: allele table to have sampleIDs appended\n",
    "- **sampleID**: sampleID to append to the cellBC\n",
    "- **alleleTableOUT**: allele table filepath for the output"
   ]
  },
  {
   "cell_type": "code",
   "execution_count": null,
   "metadata": {},
   "outputs": [],
   "source": [
    "process.changeCellBCID(\"data/test.moleculeTable.filtered.txt\", \"test\", \"data/test.moleculeTable.filtered.sample.txt\")"
   ]
  },
  {
   "cell_type": "markdown",
   "metadata": {},
   "source": [
    "### Call Lineage Groups\n",
    "\n",
    "Our last step before reconstructing trees is to call \"Lineage Groups\" (these are clonal populations in our datasets, identifiable by their unique set of intBCs). The function here, ``call_lienage_groups`` is a wrapper for a command line tool that takes in an allele table that has already been filtered and divides the dataset into clonal populations. Here, we can also attempt to filter out doublets that consist of cells from different clones (based on their set of intBCs). The function takes the following parameters:\n",
    "\n",
    "- **mt**: filepath to the filtered molecule table\n",
    "- **out_fp**: output file path, to be written in the specified output directory\n",
    "- **outputdir**: output directory\n",
    "- **cell_umi_thresh**: Cell UMI Threshold (Default = 10)\n",
    "- **min_cluster_prop**: lower bound of lineage group size, as defined as a proportion of the total number of cells. Given as a float between 0 and 1 (Default = 0.005). \n",
    "- **kinship_thresh**: Threshold on which to filter out cells from a lineage group during iterative assignment, based on the proportion of intBCs that a cell shares with that lineage group. Given as a float between 0 and 1 (Default = 0.25).\n",
    "- **min_intbc_thresh**: Filtering criteria for intBCs at the lineage group level - the minimum proportion of cells that must hve an intBC for the intBC to be considered legitimate for reconstruction. (Default = 0.05)\n",
    "- **detect_doublets_inter**: Perform inter doublet detection (Default = True)\n",
    "- **doublet_threshold**: Threshold to use for doublet detection (0.35)\n",
    "- **verbose**: Allow output of log files (Default = False)\n",
    "- **plot**: Allow plotting at the end of the pipeline (Default = False)\n",
    "\n",
    "This function will write an allele table with a new column, \"lineageGrp\",  denoting which clone each cell belongs to."
   ]
  },
  {
   "cell_type": "code",
   "execution_count": null,
   "metadata": {},
   "outputs": [],
   "source": [
    "process.call_lineage_groups(\"data/test.moleculeTable.filtered.sample.txt\", \"test.alleleTable.txt\", \"lg_output\")"
   ]
  },
  {
   "cell_type": "code",
   "execution_count": 37,
   "metadata": {},
   "outputs": [
    {
     "name": "stdout",
     "output_type": "stream",
     "text": [
      "C        large  small\n",
      "A   B                \n",
      "bar one    1.0    1.0\n",
      "    two    1.0    1.0\n",
      "foo one    2.0    1.0\n",
      "    two    NaN    2.0\n"
     ]
    },
    {
     "data": {
      "text/plain": [
       "C\n",
       "large    0.25\n",
       "small    0.00\n",
       "dtype: float64"
      ]
     },
     "execution_count": 37,
     "metadata": {},
     "output_type": "execute_result"
    }
   ],
   "source": [
    "import pylab\n",
    "df = pd.DataFrame({\"A\": [\"foo\", \"foo\", \"foo\", \"foo\", \"foo\",\n",
    "                         \"bar\", \"bar\", \"bar\", \"bar\"],\n",
    "                   \"B\": [\"one\", \"one\", \"one\", \"two\", \"two\",\n",
    "                         \"one\", \"one\", \"two\", \"two\"],\n",
    "                   \"C\": [\"small\", \"large\", \"large\", \"small\",\n",
    "                         \"small\", \"large\", \"small\", \"small\",\n",
    "                         \"large\"],\n",
    "                   \"D\": [1, 2, 2, 3, 3, 4, 5, 6, 7],\n",
    "                   \"E\": [2, 4, 5, 5, 6, 6, 8, 9, 9]})\n",
    "\n",
    "piv = pd.pivot_table(df, values='D', index=['A', 'B'],columns=['C'], aggfunc=pylab.size)\n",
    "print(piv)\n",
    "\n",
    "\n",
    "piv.apply(lambda x: x.isnull().sum() / float(piv.shape[0]), axis=0)"
   ]
  },
  {
   "cell_type": "code",
   "execution_count": 41,
   "metadata": {},
   "outputs": [
    {
     "data": {
      "text/plain": [
       "9"
      ]
     },
     "execution_count": 41,
     "metadata": {},
     "output_type": "execute_result"
    }
   ],
   "source": [
    "sum(df.groupby([\"A\"]).size())"
   ]
  },
  {
   "cell_type": "code",
   "execution_count": 21,
   "metadata": {},
   "outputs": [
    {
     "data": {
      "text/html": [
       "<div>\n",
       "<style scoped>\n",
       "    .dataframe tbody tr th:only-of-type {\n",
       "        vertical-align: middle;\n",
       "    }\n",
       "\n",
       "    .dataframe tbody tr th {\n",
       "        vertical-align: top;\n",
       "    }\n",
       "\n",
       "    .dataframe thead th {\n",
       "        text-align: right;\n",
       "    }\n",
       "</style>\n",
       "<table border=\"1\" class=\"dataframe\">\n",
       "  <thead>\n",
       "    <tr style=\"text-align: right;\">\n",
       "      <th></th>\n",
       "      <th>C</th>\n",
       "      <th>large</th>\n",
       "      <th>small</th>\n",
       "      <th>dummy</th>\n",
       "    </tr>\n",
       "    <tr>\n",
       "      <th>A</th>\n",
       "      <th>B</th>\n",
       "      <th></th>\n",
       "      <th></th>\n",
       "      <th></th>\n",
       "    </tr>\n",
       "  </thead>\n",
       "  <tbody>\n",
       "    <tr>\n",
       "      <th rowspan=\"2\" valign=\"top\">bar</th>\n",
       "      <th>one</th>\n",
       "      <td>1.0</td>\n",
       "      <td>1.0</td>\n",
       "      <td>0</td>\n",
       "    </tr>\n",
       "    <tr>\n",
       "      <th>two</th>\n",
       "      <td>1.0</td>\n",
       "      <td>1.0</td>\n",
       "      <td>0</td>\n",
       "    </tr>\n",
       "    <tr>\n",
       "      <th rowspan=\"2\" valign=\"top\">foo</th>\n",
       "      <th>one</th>\n",
       "      <td>2.0</td>\n",
       "      <td>1.0</td>\n",
       "      <td>0</td>\n",
       "    </tr>\n",
       "    <tr>\n",
       "      <th>two</th>\n",
       "      <td>NaN</td>\n",
       "      <td>2.0</td>\n",
       "      <td>0</td>\n",
       "    </tr>\n",
       "  </tbody>\n",
       "</table>\n",
       "</div>"
      ],
      "text/plain": [
       "C        large  small  dummy\n",
       "A   B                       \n",
       "bar one    1.0    1.0      0\n",
       "    two    1.0    1.0      0\n",
       "foo one    2.0    1.0      0\n",
       "    two    NaN    2.0      0"
      ]
     },
     "execution_count": 21,
     "metadata": {},
     "output_type": "execute_result"
    }
   ],
   "source": [
    "piv[\"dummy\"] = 0\n",
    "piv"
   ]
  },
  {
   "cell_type": "code",
   "execution_count": 29,
   "metadata": {},
   "outputs": [
    {
     "name": "stdout",
     "output_type": "stream",
     "text": [
      "hit\n"
     ]
    }
   ],
   "source": [
    "if [1]:\n",
    "    print('hit')"
   ]
  },
  {
   "cell_type": "code",
   "execution_count": 49,
   "metadata": {},
   "outputs": [
    {
     "data": {
      "text/plain": [
       "[]"
      ]
     },
     "execution_count": 49,
     "metadata": {},
     "output_type": "execute_result"
    }
   ],
   "source": [
    "import re\n",
    "re.findall(r\"s\\d\", \"r3\")"
   ]
  },
  {
   "cell_type": "code",
   "execution_count": null,
   "metadata": {},
   "outputs": [],
   "source": []
  }
 ],
 "metadata": {
  "kernelspec": {
   "display_name": "Python 3",
   "language": "python",
   "name": "python3"
  },
  "language_info": {
   "codemirror_mode": {
    "name": "ipython",
    "version": 3
   },
   "file_extension": ".py",
   "mimetype": "text/x-python",
   "name": "python",
   "nbconvert_exporter": "python",
   "pygments_lexer": "ipython3",
   "version": "3.6.10"
  }
 },
 "nbformat": 4,
 "nbformat_minor": 4
}
